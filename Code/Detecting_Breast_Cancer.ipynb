{
 "cells": [
  {
   "cell_type": "markdown",
   "metadata": {},
   "source": [
    "# Shardul Nazirkar\n",
    "Github - shardul1704\n",
    "# Detecting Breast Cancer using Supervised, Semi-supervised, Unsupervised Learning Methods\n",
    "https://archive.ics.uci.edu/ml/datasets/Breast+Cancer+Wisconsin+%28Diagnostic%29"
   ]
  },
  {
   "cell_type": "markdown",
   "metadata": {},
   "source": [
    "## Importing necessary libraries"
   ]
  },
  {
   "cell_type": "code",
   "execution_count": 2,
   "metadata": {},
   "outputs": [],
   "source": [
    "import pandas as pd\n",
    "import numpy as np \n",
    "import statistics\n",
    "import random as rand\n",
    "from sklearn import preprocessing\n",
    "from sklearn.svm import LinearSVC\n",
    "from sklearn.model_selection import StratifiedKFold\n",
    "from sklearn.cluster import KMeans\n",
    "from sklearn.neighbors import NearestNeighbors\n",
    "from sklearn.model_selection import GridSearchCV\n",
    "from sklearn.cluster import SpectralClustering\n",
    "from sklearn.metrics import classification_report\n",
    "from sklearn.metrics import auc\n",
    "from sklearn.metrics import precision_score\n",
    "from sklearn.metrics import accuracy_score\n",
    "from sklearn.metrics import recall_score, f1_score ,auc,roc_curve\n",
    "from sklearn.metrics import confusion_matrix\n",
    "import warnings\n",
    "warnings.filterwarnings('ignore')\n",
    "import matplotlib.pyplot as plt\n",
    "%matplotlib inline"
   ]
  },
  {
   "cell_type": "markdown",
   "metadata": {},
   "source": [
    "## 1. (a) Importing the dataset"
   ]
  },
  {
   "cell_type": "code",
   "execution_count": 19,
   "metadata": {},
   "outputs": [],
   "source": [
    "df= pd.read_csv('../data/wdbc.data',header=None)\n",
    "df.columns=['IDs','Diagnosis']+['f'+str(i+1) for i in range(df.shape[1]-2)]\n",
    "df_x = df.drop(['IDs','Diagnosis'],axis=1)\n",
    "df_x_normalize = pd.DataFrame(preprocessing.normalize(df_x))\n",
    "df = pd.concat([df[['Diagnosis']],df_x_normalize],axis=1)\n",
    "\n",
    "df[\"Diagnosis\"] = df[\"Diagnosis\"].map( {'M':0, 'B':1} )\n",
    "\n",
    "df_malignant_only = df['Diagnosis'] == 0\n",
    "df_malignant = df[df_malignant_only]\n",
    "df_malignant_20_test = df_malignant.sample(frac=.20,random_state=rand.randint(0,100))\n",
    "\n",
    "df_benign_only = df['Diagnosis'] == 1\n",
    "df_benign = df[df_benign_only]\n",
    "df_benign_20_test= df_benign.sample(frac=.20,random_state=rand.randint(1,100))"
   ]
  },
  {
   "cell_type": "code",
   "execution_count": 20,
   "metadata": {},
   "outputs": [],
   "source": [
    "test_df = pd.concat([df_malignant_20_test,df_benign_20_test]) \n",
    "index1 = test_df.index\n",
    "train_df = df.drop(index= index1)"
   ]
  },
  {
   "cell_type": "code",
   "execution_count": 21,
   "metadata": {},
   "outputs": [],
   "source": [
    "X_train = train_df.drop(['Diagnosis'],axis=1)\n",
    "y_train = train_df['Diagnosis']\n",
    "X_test = test_df.drop(['Diagnosis'],axis=1)\n",
    "y_test = test_df['Diagnosis']"
   ]
  },
  {
   "cell_type": "markdown",
   "metadata": {},
   "source": [
    "## 1. (a) (b) i. Monte-Carlo simulation - Supervised Learning"
   ]
  },
  {
   "cell_type": "code",
   "execution_count": 22,
   "metadata": {
    "scrolled": true
   },
   "outputs": [
    {
     "name": "stdout",
     "output_type": "stream",
     "text": [
      "Results for Train set\n",
      "Avg_Precision : 0.9834967320261437\n",
      "Avg_F1-score : 0.9882862192597082\n",
      "Avg_recall : 0.9931235431235431\n",
      "Avg_accuracy_score : 0.985233918128655\n",
      "\n",
      "\n",
      "Results for Test set\n",
      "Avg_Precision : 0.9583333333333334\n",
      "Avg_F1-score : 0.965034965034965\n",
      "Avg_recall : 0.971830985915493\n",
      "Avg_accuracy_score : 0.9557522123893806\n"
     ]
    }
   ],
   "source": [
    "precision_train,recall_train,fscore_train,AUC_train,accuracy_sc_train=[],[],[],[],[]\n",
    "precision_test,recall_test,fscore_test,AUC_test,accuracy_sc_test=[],[],[],[],[]\n",
    "\n",
    "for m in range(0,30):\n",
    "   \n",
    "    parameters = [{'C': [1, 10, 100, 1000, 10000]}]   \n",
    "    clf = GridSearchCV(LinearSVC(penalty='l1',dual=False),parameters,cv=5)\n",
    "    clf.fit(X_train, y_train)\n",
    "    pred_y_train = clf.predict(X_train)\n",
    "    precision_train.append(precision_score(y_train, pred_y_train))\n",
    "    recall_train.append(recall_score(y_train, pred_y_train))\n",
    "    accuracy_sc_train.append(accuracy_score(y_train, pred_y_train)) \n",
    "    fscore_train.append(f1_score(y_train,pred_y_train))\n",
    "    fpr_train, tpr_train, _ = roc_curve(y_train,pred_y_train)\n",
    "    AUC_train.append(auc(fpr_train, tpr_train))\n",
    "    \n",
    "    parameters = [{'C': [1, 10, 100, 1000, 10000]}]   \n",
    "    clf = GridSearchCV(LinearSVC(penalty='l1',dual=False),parameters,cv=5)\n",
    "    clf.fit(X_train, y_train)\n",
    "    pred_y = clf.predict(X_test)\n",
    "    precision_test.append(precision_score(y_test, pred_y))\n",
    "    recall_test.append(recall_score(y_test, pred_y))\n",
    "    accuracy_sc_test.append(accuracy_score(y_test, pred_y)) \n",
    "    fscore_test.append(f1_score(y_test, pred_y))\n",
    "    fpr_test, tpr_test, _ = roc_curve(y_test,pred_y)\n",
    "    AUC_test.append(auc(fpr_test, tpr_test))\n",
    "    \n",
    "print(\"Results for Train set\")\n",
    "avg_precision_train = statistics.mean(precision_train)\n",
    "avg_f1score_train = statistics.mean(fscore_train)\n",
    "avg_recall_train = statistics.mean(recall_train)\n",
    "avg_accuracy_Score_train= statistics.mean(accuracy_sc_train)\n",
    "print(\"Avg_Precision : {}\\nAvg_F1-score : {}\\nAvg_recall : {}\\nAvg_accuracy_score : {}\".format(avg_precision_train,avg_f1score_train,avg_recall_train,avg_accuracy_Score_train))\n",
    "print(\"\\n\")\n",
    "print(\"Results for Test set\")\n",
    "avg_precision_test = statistics.mean(precision_test)\n",
    "avg_f1score_test = statistics.mean(fscore_test)\n",
    "avg_recall_test = statistics.mean(recall_test)\n",
    "avg_accuracy_Score_test = statistics.mean(accuracy_sc_test)\n",
    "print(\"Avg_Precision : {}\\nAvg_F1-score : {}\\nAvg_recall : {}\\nAvg_accuracy_score : {}\".format(avg_precision_test,avg_f1score_test,avg_recall_test,avg_accuracy_Score_test))\n"
   ]
  },
  {
   "cell_type": "code",
   "execution_count": 23,
   "metadata": {},
   "outputs": [
    {
     "name": "stdout",
     "output_type": "stream",
     "text": [
      "Test Area under the curve\n"
     ]
    },
    {
     "data": {
      "text/plain": [
       "<matplotlib.legend.Legend at 0x28e6d2591f0>"
      ]
     },
     "execution_count": 23,
     "metadata": {},
     "output_type": "execute_result"
    },
    {
     "data": {
      "image/png": "[encoded data removed]",
      "text/plain": [
       "<Figure size 432x288 with 1 Axes>"
      ]
     },
     "metadata": {
      "needs_background": "light"
     },
     "output_type": "display_data"
    }
   ],
   "source": [
    "print(\"Test Area under the curve\")\n",
    "plt.plot(fpr_test, tpr_test,lw=2, label='ROC curve (area = %0.2f)' %auc(fpr_test, tpr_test))\n",
    "plt.plot([0, 1], [0, 1], lw=2, linestyle='--')\n",
    "plt.xlim([0.0, 1.0])\n",
    "plt.ylim([0.0, 1.05])\n",
    "plt.xlabel('False Positive Rate')\n",
    "plt.ylabel('True Positive Rate')\n",
    "plt.legend()"
   ]
  },
  {
   "cell_type": "code",
   "execution_count": 24,
   "metadata": {},
   "outputs": [
    {
     "name": "stdout",
     "output_type": "stream",
     "text": [
      "Train Area under the curve\n"
     ]
    },
    {
     "data": {
      "text/plain": [
       "<matplotlib.legend.Legend at 0x28e6d4fdbb0>"
      ]
     },
     "execution_count": 24,
     "metadata": {},
     "output_type": "execute_result"
    },
    {
     "data": {
      "image/png": "[encoded data removed]",
      "text/plain": [
       "<Figure size 432x288 with 1 Axes>"
      ]
     },
     "metadata": {
      "needs_background": "light"
     },
     "output_type": "display_data"
    }
   ],
   "source": [
    "print(\"Train Area under the curve\")\n",
    "plt.plot(fpr_train, tpr_train,lw=2, label='ROC curve (area = %0.2f)' %auc(fpr_train, tpr_train))\n",
    "plt.plot([0, 1], [0, 1], lw=2, linestyle='--')\n",
    "plt.xlim([0.0, 1.0])\n",
    "plt.ylim([0.0, 1.05])\n",
    "plt.xlabel('False Positive Rate')\n",
    "plt.ylabel('True Positive Rate')\n",
    "plt.legend()"
   ]
  },
  {
   "cell_type": "code",
   "execution_count": 26,
   "metadata": {},
   "outputs": [
    {
     "name": "stdout",
     "output_type": "stream",
     "text": [
      "Confusion Matrix Test: \n",
      "[[39  3]\n",
      " [ 2 69]]\n",
      "Confusion Matrix Test: \n",
      "[[165   5]\n",
      " [  2 284]]\n"
     ]
    }
   ],
   "source": [
    "conf = confusion_matrix(y_test,pred_y)\n",
    "print(\"Confusion Matrix Test: \")\n",
    "print(conf)\n",
    "\n",
    "conf_tr = confusion_matrix(y_train,pred_y_train)\n",
    "print(\"Confusion Matrix Test: \")\n",
    "print(conf_tr)"
   ]
  },
  {
   "cell_type": "markdown",
   "metadata": {},
   "source": [
    "## 1. (b) ii. Semi-supervised learning"
   ]
  },
  {
   "cell_type": "code",
   "execution_count": 3,
   "metadata": {},
   "outputs": [
    {
     "name": "stdout",
     "output_type": "stream",
     "text": [
      "0\n",
      "1\n",
      "2\n",
      "3\n",
      "4\n",
      "5\n",
      "6\n",
      "7\n",
      "8\n",
      "9\n",
      "10\n",
      "11\n",
      "12\n",
      "13\n",
      "14\n",
      "15\n",
      "16\n",
      "17\n",
      "18\n",
      "19\n",
      "20\n",
      "21\n",
      "22\n",
      "23\n",
      "24\n",
      "25\n",
      "26\n",
      "27\n",
      "28\n",
      "29\n",
      "Train Values\n",
      "avg  precision score:  0.9633090567916686\n",
      "avg  f1 score:  0.9720966716503162\n",
      "avg  recall score:  0.9811918063314711\n",
      "avg AUC score:  0.9588348968764273\n",
      "avg acuracy score:  0.964561403508772\n",
      "TEST values\n",
      "avg precision score:  0.939620446213728\n",
      "avg f1 score:  0.9580053289706174\n",
      "avg recall score:  0.9775280898876404\n",
      "avg AUC score:  0.9354621581513675\n",
      "avg acuracy score:  0.9461267605633803\n"
     ]
    }
   ],
   "source": [
    "precision_train,recall_train,fscore_train,AUC_train,accuracy_sc_train=[],[],[],[],[]\n",
    "precision_test,recall_test,fscore_test,AUC_test,accuracy_sc_test=[],[],[],[],[]\n",
    "\n",
    "for m in range(0,30):\n",
    "    print(m)\n",
    "    df_malignant_filter = df['Diagnosis'] == 0\n",
    "    df_malignant = df[df_malignant_filter]\n",
    "    df_malignant_20_test = df_malignant.sample(frac=.50,random_state=rand.randint(0,100))\n",
    "    df_benign_filter = df['Diagnosis'] == 1\n",
    "    df_benign = df[df_benign_filter]\n",
    "    df_benign_20_test= df_benign.sample(frac=.50,random_state=rand.randint(1,100))\n",
    "    \n",
    "    test_df = pd.concat([df_malignant_20_test,df_benign_20_test]) \n",
    "    index1 = test_df.index\n",
    "    train_df = df.drop(index= index1)\n",
    "    label_df = train_df\n",
    "    \n",
    "    unlabeled_df = test_df.drop('Diagnosis',axis=1)\n",
    "    unlabeled_df_y = test_df['Diagnosis']\n",
    "    unlabeled_df_final =unlabeled_df.reset_index(drop=True)\n",
    "    unlabeled_df = unlabeled_df_final\n",
    "    \n",
    "    labeled_x = train_df.drop(['Diagnosis'],axis=1)\n",
    "    labeled_x = labeled_x.reset_index(drop=True)\n",
    "    labeled_y=train_df['Diagnosis']\n",
    "    labeled_y=labeled_y.reset_index(drop=True)\n",
    "    labeled_x_final = train_df.drop(['Diagnosis'],axis=1)\n",
    "    labeled_x_final = labeled_x_final.reset_index(drop=True)\n",
    "    labeled_y_final=train_df['Diagnosis']\n",
    "    labeled_y_final=labeled_y_final.reset_index(drop=True)\n",
    "    \n",
    "    for un in range(len(unlabeled_df)):\n",
    "        parameters = [{'C': [0.1,0.001,1, 10, 100, 1000],'max_iter':[2000]}]\n",
    "        clf = GridSearchCV(LinearSVC(penalty='l1',dual=False),parameters,cv=5)\n",
    "        clf.fit(labeled_x,labeled_y)\n",
    "        l = int(np.argmax(clf.decision_function(unlabeled_df)))\n",
    "        max_dist_val = pd.Series.to_frame(unlabeled_df.iloc[l,:]).T\n",
    "        pred_app = pd.DataFrame(clf.predict(max_dist_val))\n",
    "        labeled_y = pd.concat([labeled_y,pred_app],axis=0)\n",
    "        labeled_x = labeled_x.append(max_dist_val)\n",
    "        unlabeled_df = unlabeled_df.drop(index=l,axis=0)\n",
    "        unlabeled_df = unlabeled_df.reset_index(drop=True)\n",
    "    \n",
    "    pred_final = clf.predict(unlabeled_df_final)\n",
    "    precision_test.append(precision_score(unlabeled_df_y, pred_final))\n",
    "    recall_test.append(recall_score(unlabeled_df_y,pred_final))\n",
    "    accuracy_sc_test.append(accuracy_score(unlabeled_df_y, pred_final)) \n",
    "    fscore_test.append(f1_score(unlabeled_df_y, pred_final))\n",
    "    fpr, tpr, _ = roc_curve(unlabeled_df_y,pred_final)\n",
    "    AUC_test.append(auc(fpr, tpr))\n",
    "    \n",
    "    pred_final_train=clf.predict(labeled_x_final)\n",
    "    precision_train.append(precision_score(labeled_y_final, pred_final_train))\n",
    "    recall_train.append(recall_score(labeled_y_final,pred_final_train))\n",
    "    accuracy_sc_train.append(accuracy_score(labeled_y_final, pred_final_train)) \n",
    "    fscore_train.append(f1_score(labeled_y_final, pred_final_train))\n",
    "    fpr_tr, tpr_tr, _ = roc_curve(labeled_y_final,pred_final_train)\n",
    "    AUC_train.append(auc(fpr_tr, tpr_tr))\n",
    "\n",
    "print(\"Train Values\")\n",
    "print(\"avg  precision score: \",statistics.mean(precision_train))\n",
    "print(\"avg  f1 score: \",statistics.mean(fscore_train))\n",
    "print(\"avg  recall score: \",statistics.mean(recall_train))\n",
    "print(\"avg AUC score: \",statistics.mean(AUC_train))\n",
    "print(\"avg acuracy score: \",statistics.mean(accuracy_sc_train))\n",
    "print(\"TEST values\")\n",
    "print(\"avg precision score: \",statistics.mean(precision_test))\n",
    "print(\"avg f1 score: \",statistics.mean(fscore_test))\n",
    "print(\"avg recall score: \",statistics.mean(recall_test))\n",
    "print(\"avg AUC score: \",statistics.mean(AUC_test))\n",
    "print(\"avg acuracy score: \",statistics.mean(accuracy_sc_test))"
   ]
  },
  {
   "cell_type": "code",
   "execution_count": 5,
   "metadata": {
    "scrolled": true
   },
   "outputs": [
    {
     "name": "stdout",
     "output_type": "stream",
     "text": [
      "Test Area under the curve\n"
     ]
    },
    {
     "data": {
      "image/png": "[encoded data removed]",
      "text/plain": [
       "<Figure size 432x288 with 1 Axes>"
      ]
     },
     "metadata": {
      "needs_background": "light"
     },
     "output_type": "display_data"
    }
   ],
   "source": [
    "print(\"Test Area under the curve\")\n",
    "plt.plot(fpr, tpr,lw=2, label='ROC curve (area = %0.2f)' %auc(fpr, tpr))\n",
    "plt.plot([0, 1], [0, 1], lw=2, linestyle='--')\n",
    "plt.xlim([0.0, 1.0])\n",
    "plt.ylim([0.0, 1.05])\n",
    "plt.xlabel('False Positive Rate')\n",
    "plt.ylabel('True Positive Rate')\n",
    "plt.legend()"
   ]
  },
  {
   "cell_type": "code",
   "execution_count": 7,
   "metadata": {},
   "outputs": [
    {
     "name": "stdout",
     "output_type": "stream",
     "text": [
      "Train Area under the curve\n"
     ]
    },
    {
     "data": {
      "image/png": "[encoded data removed]",
      "text/plain": [
       "<Figure size 432x288 with 1 Axes>"
      ]
     },
     "metadata": {
      "needs_background": "light"
     },
     "output_type": "display_data"
    }
   ],
   "source": [
    "print(\"Train Area under the curve\")\n",
    "plt.plot(fpr_tr, tpr_tr,lw=2, label='ROC curve (area = %0.2f)' %auc(fpr_tr, tpr_tr))\n",
    "plt.plot([0, 1], [0, 1], lw=2, linestyle='--')\n",
    "plt.xlim([0.0, 1.0])\n",
    "plt.ylim([0.0, 1.05])\n",
    "plt.xlabel('False Positive Rate')\n",
    "plt.ylabel('True Positive Rate')\n",
    "plt.legend()"
   ]
  },
  {
   "cell_type": "code",
   "execution_count": 11,
   "metadata": {},
   "outputs": [
    {
     "name": "stdout",
     "output_type": "stream",
     "text": [
      "Confusion Matrix test: \n",
      "[[ 90  16]\n",
      " [  6 172]]\n",
      "Confusion Matrix train: \n",
      "[[ 99   7]\n",
      " [  3 176]]\n"
     ]
    }
   ],
   "source": [
    "conf = confusion_matrix(unlabeled_data_y, pred_final)\n",
    "print(\"Confusion Matrix test: \")\n",
    "print(conf)\n",
    "\n",
    "conf_tr = confusion_matrix(labeled_y_final, pred_final_train)\n",
    "print(\"Confusion Matrix train: \")\n",
    "print(conf_tr)"
   ]
  },
  {
   "cell_type": "markdown",
   "metadata": {},
   "source": [
    "## 1. (b) iii. Unsupervised Learning"
   ]
  },
  {
   "cell_type": "code",
   "execution_count": 8,
   "metadata": {},
   "outputs": [],
   "source": [
    "precision_train,recall_train,fscore_train,AUC_train,accuracy_sc_train=[],[],[],[],[]\n",
    "precision_test,recall_test,fscore_test,AUC_test,accuracy_sc_test=[],[],[],[],[]\n",
    "\n",
    "for m in range(0,30):\n",
    "\n",
    "    kmeans=KMeans(n_clusters=2,init='k-means++',n_init=5,random_state=rand.randint(0,100))\n",
    "    kmeans.fit(X_train)\n",
    "    nbrs = NearestNeighbors(n_neighbors=30, algorithm='ball_tree').fit(X_train)\n",
    "    distances, indices = nbrs.kneighbors(kmeans.cluster_centers_)\n",
    "    \n",
    "    y_train = y_train.reset_index(drop=True)\n",
    "    clus0= y_train.loc[indices[0]]\n",
    "    poll0=clus0.value_counts()\n",
    "    clus1=y_train.loc[indices[1]]\n",
    "    poll1=clus1.value_counts()\n",
    "    \n",
    "    pred_y = kmeans.labels_\n",
    "    pred_y=pd.DataFrame(pred_y)\n",
    "    pred_y0=pred_y[pred_y[0]==0]\n",
    "    pred_y1=pred_y[pred_y[0]==1]\n",
    "\n",
    "    max_index_0=np.argmax(poll0)\n",
    "    max_index_1=np.argmax(poll1)\n",
    "\n",
    "    pred_y0['class']=max_index_0\n",
    "    pred_y1['class']=max_index_1\n",
    "    pred_y_tr=pd.concat([pred_y0['class'],pred_y1['class']],axis=0)\n",
    "    pred_y_tr=pred_y_tr.sort_index()\n",
    "\n",
    "    precision_train.append(precision_score(y_train, pred_y_tr))\n",
    "    recall_train.append(recall_score(y_train, pred_y_tr))\n",
    "    accuracy_sc_train.append(accuracy_score(y_train, pred_y_tr)) \n",
    "    fscore_train.append(f1_score(y_train, pred_y_tr))\n",
    "    fpr_tr, tpr_tr, _ = roc_curve(y_train,pred_y_tr)\n",
    "    AUC_train.append(auc(fpr_tr, tpr_tr))\n",
    "    \n",
    "    pred_y_test = kmeans.predict(test_x)\n",
    "    precision_test.append(precision_score(y_test, pred_y_test))\n",
    "    recall_test.append(recall_score(y_test, pred_y_test))\n",
    "    accuracy_sc_test.append(accuracy_score(y_test, pred_y_test)) \n",
    "    fscore_test.append(f1_score(y_test, pred_y_test))\n",
    "    fpr, tpr, _ = roc_curve(y_test,pred_y_test)\n",
    "    AUC_test.append(auc(fpr, tpr))"
   ]
  },
  {
   "cell_type": "code",
   "execution_count": 9,
   "metadata": {},
   "outputs": [
    {
     "name": "stdout",
     "output_type": "stream",
     "text": [
      "Train scores\n",
      "precision score: 0.5484201367287728\n",
      "f1 score: 0.6210767846069476\n",
      "recall score: 0.7286713286713287\n",
      "AUC score: 0.6078650761003702\n",
      "accuracy score: 0.6385964912280702\n",
      "\n",
      "Test scores\n",
      "precision score: 0.20932600421162503\n",
      "f1 score: 0.20602395506508867\n",
      "recall score: 0.21220657276995306\n",
      "AUC score: 0.29062709590878605\n",
      "accuracy score: 0.2705014749262537\n"
     ]
    }
   ],
   "source": [
    "print(\"Train scores\")\n",
    "print(\"precision score: \",statistics.mean(precision_train))\n",
    "print(\"f1 score: \" ,statistics.mean(fscore_train))\n",
    "print(\"recall score: \",statistics.mean(recall_train) )\n",
    "print(\"AUC score: \",statistics.mean(AUC_train) )\n",
    "print(\"accuracy score: \",statistics.mean(accuracy_sc_train) )\n",
    "print(\"\\nTest scores\")\n",
    "print(\"precision score: \",statistics.mean(precision_test) )\n",
    "print(\"f1 score: \",statistics.mean(fscore_test) )\n",
    "print(\"recall score: \" ,statistics.mean(recall_test))\n",
    "print(\"AUC score: \" ,statistics.mean(AUC_test))\n",
    "print(\"accuracy score: \" ,statistics.mean(accuracy_sc_test))"
   ]
  },
  {
   "cell_type": "code",
   "execution_count": 31,
   "metadata": {},
   "outputs": [
    {
     "name": "stdout",
     "output_type": "stream",
     "text": [
      "Train Area under the curve\n"
     ]
    },
    {
     "data": {
      "image/png": "[encoded data removed]",
      "text/plain": [
       "<Figure size 432x288 with 1 Axes>"
      ]
     },
     "metadata": {
      "needs_background": "light"
     },
     "output_type": "display_data"
    }
   ],
   "source": [
    "print(\"Train Area under the curve\")\n",
    "plt.plot(fpr_tr, tpr_tr,lw=2, label='ROC curve (area = %0.2f)' %auc(fpr_tr, tpr_tr))\n",
    "plt.plot([0, 1], [0, 1], lw=2, linestyle='--')\n",
    "plt.xlim([0.0, 1.0])\n",
    "plt.ylim([0.0, 1.05])\n",
    "plt.xlabel('False Positive Rate')\n",
    "plt.ylabel('True Positive Rate')\n",
    "plt.legend()"
   ]
  },
  {
   "cell_type": "code",
   "execution_count": 32,
   "metadata": {},
   "outputs": [
    {
     "name": "stdout",
     "output_type": "stream",
     "text": [
      "Test Area under the curve\n"
     ]
    },
    {
     "data": {
      "image/png": "[encoded data removed]",
      "text/plain": [
       "<Figure size 432x288 with 1 Axes>"
      ]
     },
     "metadata": {
      "needs_background": "light"
     },
     "output_type": "display_data"
    }
   ],
   "source": [
    "print(\"Test Area under the curve\")\n",
    "plt.plot(fpr, tpr,lw=2, label='ROC curve (area = %0.2f)' %auc(fpr, tpr))\n",
    "plt.plot([0, 1], [0, 1], lw=2, linestyle='--')\n",
    "plt.xlim([0.0, 1.0])\n",
    "plt.ylim([0.0, 1.05])\n",
    "plt.xlabel('False Positive Rate')\n",
    "plt.ylabel('True Positive Rate')\n",
    "plt.title('Test Receiver operating characteristic')\n",
    "plt.legend()\n",
    "plt.show()"
   ]
  },
  {
   "cell_type": "code",
   "execution_count": 15,
   "metadata": {},
   "outputs": [
    {
     "name": "stdout",
     "output_type": "stream",
     "text": [
      "Confusion Matrix test: \n",
      "[[274  11]\n",
      " [ 25 145]]\n",
      "Confusion Matrix train: \n",
      "[[70  2]\n",
      " [ 6 36]]\n"
     ]
    }
   ],
   "source": [
    "conf = confusion_matrix(y_test, pred_y_test)\n",
    "print(\"Confusion Matrix test: \")\n",
    "print(conf)\n",
    "\n",
    "conf_tr = confusion_matrix(y_train, pred_y_tr)\n",
    "print(\"Confusion Matrix train: \")\n",
    "print(conf_tr)"
   ]
  },
  {
   "cell_type": "markdown",
   "metadata": {},
   "source": [
    "## 1. (b) iv. Spectral Clustering"
   ]
  },
  {
   "cell_type": "markdown",
   "metadata": {},
   "source": [
    "Spectral clustering is a technique with roots in graph theory, where the approach is used to identify communities of nodes in a graph based on the edges connecting them. The method is flexible and allows us to cluster non graph data as well."
   ]
  },
  {
   "cell_type": "code",
   "execution_count": 51,
   "metadata": {},
   "outputs": [],
   "source": [
    "precision_train,recall_train,fscore_train,AUC_train,accuracy_sc_train=[],[],[],[],[]\n",
    "precision_test,recall_test,fscore_test,AUC_test,accuracy_sc_test=[],[],[],[],[]\n",
    "\n",
    "for m in range(0,30):\n",
    "    sc=SpectralClustering(n_clusters=2,affinity='rbf',n_init=5,random_state=rand.randint(0,100)).fit(X_train)\n",
    "    speclabels = pd.DataFrame(sc.labels_)\n",
    "    label0= speclabels[speclabels[0]==0].index \n",
    "    label1=speclabels[speclabels[0]==1].index\n",
    "    \n",
    "    cluster0=X_train.iloc[label0,:]\n",
    "    cluster1=X_train.iloc[label1,:]\n",
    "    \n",
    "    center0=cluster0.mean(axis=0)\n",
    "    center1=cluster1.mean(axis=0)\n",
    "    centers = pd.DataFrame()\n",
    "    centers[0] = center0\n",
    "    centers[1] = center1\n",
    "    \n",
    "    neigh = NearestNeighbors(n_neighbors=30,algorithm='brute').fit(X_train)\n",
    "    distances, indices = neigh.kneighbors(centers.T)\n",
    "    \n",
    "    clus0= y_train.loc[indices[0]]\n",
    "    poll0=clus0.value_counts()  \n",
    "    clus1=y_train.loc[indices[1]]\n",
    "    poll1=clus1.value_counts()\n",
    "    \n",
    "    pred_y = sc.labels_\n",
    "    pred_y=pd.DataFrame(pred_y)\n",
    "    pred_y0=pred_y[pred_y[0]==0]\n",
    "    pred_y1=pred_y[pred_y[0]==1]\n",
    "    \n",
    "    max_index_0=np.argmax(poll0)\n",
    "    max_index_1=np.argmax(poll1)\n",
    "    \n",
    "    pred_y0['class']=max_index_0\n",
    "    pred_y1['class']=max_index_1\n",
    "    pred_y_tr=pd.concat([pred_y0['class'],pred_y1['class']],axis=0)\n",
    "    pred_y_tr=pred_y_tr.sort_index()\n",
    "    \n",
    "    precision_train.append(precision_score(y_train, pred_y_tr))\n",
    "    recall_train.append(recall_score(y_train, pred_y_tr))\n",
    "    accuracy_sc_train.append(accuracy_score(y_train, pred_y_tr)) \n",
    "    fscore_train.append(f1_score(y_train, pred_y_tr))\n",
    "    fpr_tr, tpr_tr, _ = roc_curve(y_train,pred_y_tr)\n",
    "    AUC_train.append(auc(fpr_tr, tpr_tr))\n",
    "    \n",
    "    pred_y_test = sc.fit_predict(X_test)\n",
    "    precision_test.append(precision_score(y_test, pred_y_test))\n",
    "    recall_test.append(recall_score(y_test, pred_y_test))\n",
    "    accuracy_sc_test.append(accuracy_score(y_test, pred_y_test)) \n",
    "    fscore_test.append(f1_score(y_test, pred_y_test))\n",
    "    fpr, tpr, _ = roc_curve(y_test,pred_y_test)\n",
    "    AUC_test.append(auc(fpr, tpr))"
   ]
  },
  {
   "cell_type": "code",
   "execution_count": 16,
   "metadata": {},
   "outputs": [
    {
     "name": "stdout",
     "output_type": "stream",
     "text": [
      "Train scores\n",
      "precision score: 0.5869568063551421\n",
      "f1 score: 0.6454033456366358\n",
      "recall score: 0.7273892773892774\n",
      "AUC score: 0.6261456190867956\n",
      "accuracy score: 0.6519005847953216\n",
      "\n",
      "Test scores\n",
      "precision score: 0.3476325170255673\n",
      "f1 score: 0.357024949460168\n",
      "recall score: 0.3751173708920188\n",
      "AUC score: 0.4125586854460094\n",
      "accuracy score: 0.40294985250737464\n"
     ]
    }
   ],
   "source": [
    "print(\"Train scores\")\n",
    "print(\"precision score: \",statistics.mean(precision_train))\n",
    "print(\"f1 score: \" ,statistics.mean(fscore_train))\n",
    "print(\"recall score: \",statistics.mean(recall_train) )\n",
    "print(\"AUC score: \",statistics.mean(AUC_train) )\n",
    "print(\"accuracy score: \",statistics.mean(accuracy_sc_train) )\n",
    "print(\"\\nTest scores\")\n",
    "print(\"precision score: \",statistics.mean(precision_test) )\n",
    "print(\"f1 score: \",statistics.mean(fscore_test) )\n",
    "print(\"recall score: \" ,statistics.mean(recall_test))\n",
    "print(\"AUC score: \" ,statistics.mean(AUC_test))\n",
    "print(\"accuracy score: \" ,statistics.mean(accuracy_sc_test))"
   ]
  },
  {
   "cell_type": "code",
   "execution_count": 16,
   "metadata": {},
   "outputs": [
    {
     "name": "stdout",
     "output_type": "stream",
     "text": [
      "Train scores\n",
      "precision score: 0.5869568063551421\n",
      "f1 score: 0.6454033456366358\n",
      "recall score: 0.7273892773892774\n",
      "AUC score: 0.6261456190867956\n",
      "accuracy score: 0.6519005847953216\n",
      "\n",
      "Test scores\n",
      "precision score: 0.3476325170255673\n",
      "f1 score: 0.357024949460168\n",
      "recall score: 0.3751173708920188\n",
      "AUC score: 0.4125586854460094\n",
      "accuracy score: 0.40294985250737464\n"
     ]
    }
   ],
   "source": [
    "print(\"Train scores\")\n",
    "print(\"precision score: \",statistics.mean(precision_train))\n",
    "print(\"f1 score: \" ,statistics.mean(fscore_train))\n",
    "print(\"recall score: \",statistics.mean(recall_train) )\n",
    "print(\"AUC score: \",statistics.mean(AUC_train) )\n",
    "print(\"accuracy score: \",statistics.mean(accuracy_sc_train) )\n",
    "print(\"\\nTest scores\")\n",
    "print(\"precision score: \",statistics.mean(precision_test) )\n",
    "print(\"f1 score: \",statistics.mean(fscore_test) )\n",
    "print(\"recall score: \" ,statistics.mean(recall_test))\n",
    "print(\"AUC score: \" ,statistics.mean(AUC_test))\n",
    "print(\"accuracy score: \" ,statistics.mean(accuracy_sc_test))"
   ]
  },
  {
   "cell_type": "code",
   "execution_count": 53,
   "metadata": {},
   "outputs": [
    {
     "name": "stdout",
     "output_type": "stream",
     "text": [
      "Train Area under the curve\n"
     ]
    },
    {
     "data": {
      "image/png": "[encoded data removed]",
      "text/plain": [
       "<Figure size 432x288 with 1 Axes>"
      ]
     },
     "metadata": {
      "needs_background": "light"
     },
     "output_type": "display_data"
    }
   ],
   "source": [
    "print(\"Train Area under the curve\")\n",
    "plt.plot(fpr_tr, tpr_tr,lw=2, label='ROC curve (area = %0.2f)' %auc(fpr_tr, tpr_tr))\n",
    "plt.plot([0, 1], [0, 1], color='navy', lw=2, linestyle='--')\n",
    "plt.xlim([0.0, 1.0])\n",
    "plt.ylim([0.0, 1.05])\n",
    "plt.xlabel('False Positive Rate')\n",
    "plt.ylabel('True Positive Rate')\n",
    "plt.legend()"
   ]
  },
  {
   "cell_type": "code",
   "execution_count": 54,
   "metadata": {},
   "outputs": [
    {
     "name": "stdout",
     "output_type": "stream",
     "text": [
      "Test Area under the curve\n"
     ]
    },
    {
     "data": {
      "image/png": "[encoded data removed]",
      "text/plain": [
       "<Figure size 432x288 with 1 Axes>"
      ]
     },
     "metadata": {
      "needs_background": "light"
     },
     "output_type": "display_data"
    }
   ],
   "source": [
    "print(\"Test Area under the curve\")\n",
    "plt.plot(fpr, tpr,lw=2, label='ROC curve (area = %0.2f)' %auc(fpr, tpr))\n",
    "plt.plot([0, 1], [0, 1],lw=2, linestyle='--')\n",
    "plt.xlim([0.0, 1.0])\n",
    "plt.ylim([0.0, 1.05])\n",
    "plt.xlabel('False Positive Rate')\n",
    "plt.ylabel('True Positive Rate')\n",
    "plt.title('Test Receiver operating characteristic')\n",
    "plt.legend()"
   ]
  },
  {
   "cell_type": "code",
   "execution_count": 55,
   "metadata": {},
   "outputs": [
    {
     "name": "stdout",
     "output_type": "stream",
     "text": [
      "Confusion Matrix test: \n",
      "[[32 10]\n",
      " [ 3 68]]\n",
      "Confusion Matrix train: \n",
      "[[119  51]\n",
      " [  3 283]]\n"
     ]
    }
   ],
   "source": [
    "conf = confusion_matrix(test_y, pred_y_test)\n",
    "print(\"Confusion Matrix test: \")\n",
    "print(conf)\n",
    "\n",
    "conf_tr = confusion_matrix(train_y, pred_y_tr)\n",
    "print(\"Confusion Matrix train: \")\n",
    "print(conf_tr)"
   ]
  },
  {
   "cell_type": "markdown",
   "metadata": {},
   "source": [
    "From the above results we can see that as expected Supervised learning performs the best for our dataset. However, Semi-Supervised also performs only slightly worse. Performances of Unsupervised and Spectral clustering are similar but much worse that Supervised and Semi-Supervised."
   ]
  }
 ],
 "metadata": {
  "kernelspec": {
   "display_name": "Python 3 (ipykernel)",
   "language": "python",
   "name": "python3"
  },
  "language_info": {
   "codemirror_mode": {
    "name": "ipython",
    "version": 3
   },
   "file_extension": ".py",
   "mimetype": "text/x-python",
   "name": "python",
   "nbconvert_exporter": "python",
   "pygments_lexer": "ipython3",
   "version": "3.9.12"
  }
 },
 "nbformat": 4,
 "nbformat_minor": 2
}
